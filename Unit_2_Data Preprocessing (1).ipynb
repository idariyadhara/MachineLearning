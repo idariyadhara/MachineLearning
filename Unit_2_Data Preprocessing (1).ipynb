{
 "cells": [
  {
   "cell_type": "markdown",
   "id": "6f36e1e4",
   "metadata": {},
   "source": [
    "# Mean Processing\n",
    "Mean processing means set the data accordingly where we get center point=0"
   ]
  },
  {
   "cell_type": "code",
   "execution_count": 2,
   "id": "09ea63f6",
   "metadata": {},
   "outputs": [
    {
     "name": "stdout",
     "output_type": "stream",
     "text": [
      "[2.96059473e-16 2.96059473e-16]\n",
      "[2.05480467 2.49443826]\n",
      "[1.66533454e-16 1.48029737e-16]\n",
      "[1. 1.]\n"
     ]
    }
   ],
   "source": [
    "import numpy as np\n",
    "from sklearn import preprocessing\n",
    "\n",
    "data=np.array([[2,7],[7,9],[4,3]])\n",
    "# print(data)\n",
    "\n",
    "#mean Removal= It means mean= and std=1\n",
    "#mean=average\n",
    "#axis=0=columns#axis=1=rows\n",
    "#way:1\n",
    "mean_val=data.mean(axis=0)\n",
    "# print(mean_val)\n",
    "\n",
    "#standard Deviation\n",
    "std=data.std(axis=0)\n",
    "# print(std)\n",
    "\n",
    "final_val=data-mean_val\n",
    "# print(final_val)\n",
    "print(final_val.mean(axis=0))\n",
    "print(final_val.std(axis=0))\n",
    "\n",
    "#way:2\n",
    "#scale()\n",
    "final=preprocessing.scale(data)\n",
    "# print(final)\n",
    "print(final.mean(axis=0))\n",
    "print(final.std(axis=0))"
   ]
  },
  {
   "cell_type": "code",
   "execution_count": 5,
   "id": "682ef1dc",
   "metadata": {
    "scrolled": true
   },
   "outputs": [
    {
     "name": "stdout",
     "output_type": "stream",
     "text": [
      "english.grade     3.444118\n",
      "math.grade        3.494118\n",
      "sciences.grade    3.541176\n",
      "dtype: float64\n",
      "english.grade     0.492484\n",
      "math.grade        0.393077\n",
      "sciences.grade    0.301630\n",
      "dtype: float64\n",
      "[-1.41961606e-15 -1.18532635e-15 -9.56751018e-16]\n",
      "[1. 1. 1.]\n"
     ]
    }
   ],
   "source": [
    "import pandas as pd\n",
    "from sklearn import preprocessing\n",
    "\n",
    "df=pd.read_csv(\"student-dataset.csv\")\n",
    "# print(df)\n",
    "data=df[['english.grade','math.grade','sciences.grade']]\n",
    "print(data.mean(axis=0))\n",
    "print(data.std(axis=0))\n",
    "\n",
    "#data After mean removal\n",
    "mean_removed_data=preprocessing.scale(data)\n",
    "print(mean_removed_data.mean(axis=0))\n",
    "print(mean_removed_data.std(axis=0))"
   ]
  },
  {
   "cell_type": "code",
   "execution_count": 6,
   "id": "5530adb0",
   "metadata": {},
   "outputs": [],
   "source": [
    "#You need to give data to the model\n",
    "#Fit :- Means Passing Datato the Model method=fit()\n",
    "#Transform :- Transform th given data according to their(model) requiement  Method=transform()\n",
    "#For applying both Method = fit_transform()"
   ]
  },
  {
   "cell_type": "code",
   "execution_count": null,
   "id": "81c4d633",
   "metadata": {},
   "outputs": [],
   "source": [
    "#Step 1: Preproccess data\n",
    "#Step 2:Fit datato the model\n",
    "#Step 3: Transform the data"
   ]
  },
  {
   "cell_type": "markdown",
   "id": "2b0cd168",
   "metadata": {},
   "source": [
    "# Scalling\n",
    "#set the data in range of 0-1(default)\n",
    "#you can also appy -1 to 0"
   ]
  },
  {
   "cell_type": "markdown",
   "id": "d9da8b27",
   "metadata": {},
   "source": [
    "# Scalling On Array"
   ]
  },
  {
   "cell_type": "code",
   "execution_count": 7,
   "id": "c27a97bc",
   "metadata": {
    "scrolled": true
   },
   "outputs": [
    {
     "name": "stdout",
     "output_type": "stream",
     "text": [
      "[[0.         0.66666667]\n",
      " [1.         1.        ]\n",
      " [0.4        0.        ]]\n"
     ]
    }
   ],
   "source": [
    "data=np.array([[2,7],[7,9],[4,3]])\n",
    "\n",
    "#Define A Scaller Model for Scalling the data\n",
    "scaller_model=preprocessing.MinMaxScaler()\n",
    "\n",
    "#Apply Data to the Model : fit\n",
    "op1=scaller_model.fit(data)\n",
    "\n",
    "#Let the model trasfer the data according to requirement : trasform\n",
    "op2=op1.transform(data)\n",
    "\n",
    "#print the data\n",
    "print(op2)"
   ]
  },
  {
   "cell_type": "code",
   "execution_count": 8,
   "id": "42059e33",
   "metadata": {},
   "outputs": [
    {
     "name": "stdout",
     "output_type": "stream",
     "text": [
      "[[0.         0.66666667]\n",
      " [1.         1.        ]\n",
      " [0.4        0.        ]]\n"
     ]
    }
   ],
   "source": [
    "#fit and transform both \n",
    "data=np.array([[2,7],[7,9],[4,3]])\n",
    "\n",
    "#Define A Scaller Model for Scalling the data\n",
    "scaller_model=preprocessing.MinMaxScaler()\n",
    "\n",
    "#Apply the data to model and let the model transferdata according\n",
    "op=scaller_model.fit_transform(data)\n",
    "\n",
    "#print the output\n",
    "print(op)"
   ]
  },
  {
   "cell_type": "code",
   "execution_count": null,
   "id": "524f2cc5",
   "metadata": {},
   "outputs": [],
   "source": [
    "#Scalling On CSV"
   ]
  },
  {
   "cell_type": "code",
   "execution_count": 16,
   "id": "d7bf32a0",
   "metadata": {},
   "outputs": [
    {
     "name": "stdout",
     "output_type": "stream",
     "text": [
      "[[0.7826087  0.78571429 0.25      ]\n",
      " [0.52173913 0.42857143 0.66666667]\n",
      " [0.95652174 0.85714286 0.33333333]\n",
      " [0.69565217 0.14285714 0.33333333]\n",
      " [0.86956522 0.         0.5       ]\n",
      " [0.73913043 0.35714286 0.75      ]\n",
      " [0.86956522 0.92857143 0.66666667]\n",
      " [0.91304348 0.78571429 0.66666667]\n",
      " [0.95652174 0.71428571 0.33333333]\n",
      " [0.30434783 0.14285714 0.83333333]\n",
      " [0.73913043 0.64285714 0.33333333]\n",
      " [0.         1.         0.66666667]\n",
      " [0.91304348 0.71428571 0.91666667]\n",
      " [0.86956522 0.64285714 1.        ]\n",
      " [0.65217391 0.92857143 0.41666667]\n",
      " [1.         0.92857143 0.75      ]\n",
      " [0.52173913 0.57142857 0.66666667]\n",
      " [0.60869565 0.64285714 0.        ]\n",
      " [0.95652174 0.21428571 1.        ]\n",
      " [0.86956522 0.92857143 0.5       ]\n",
      " [0.91304348 0.71428571 0.66666667]\n",
      " [0.95652174 0.92857143 0.91666667]\n",
      " [0.82608696 0.71428571 0.91666667]\n",
      " [0.91304348 0.92857143 0.83333333]\n",
      " [0.47826087 0.64285714 0.58333333]\n",
      " [0.86956522 0.78571429 0.83333333]\n",
      " [0.60869565 0.21428571 0.33333333]\n",
      " [0.95652174 0.78571429 0.41666667]\n",
      " [0.73913043 0.42857143 0.75      ]\n",
      " [0.73913043 0.85714286 1.        ]\n",
      " [0.73913043 0.92857143 0.66666667]\n",
      " [0.60869565 0.21428571 0.33333333]\n",
      " [0.95652174 0.78571429 0.41666667]\n",
      " [0.73913043 0.42857143 0.75      ]]\n"
     ]
    }
   ],
   "source": [
    "df=pd.read_csv(\"student-dataset.csv\")\n",
    "data=df[['english.grade','math.grade','sciences.grade']]\n",
    "scaller_model=preprocessing.MinMaxScaler()\n",
    "# op1=scaller_model.fit(data)\n",
    "# op2=op1.transform(data)\n",
    "# print(op2)\n",
    "\n",
    "op=scaller_model.fit_transform(data)\n",
    "print(op)"
   ]
  },
  {
   "cell_type": "markdown",
   "id": "74f5aa4b",
   "metadata": {},
   "source": [
    "# Normalization\n",
    "\n",
    "Range = 0-1(default)\n",
    "Method=normalize"
   ]
  },
  {
   "cell_type": "code",
   "execution_count": 20,
   "id": "4712fb7d",
   "metadata": {},
   "outputs": [
    {
     "name": "stdout",
     "output_type": "stream",
     "text": [
      "[[0.28571429 1.        ]\n",
      " [0.77777778 1.        ]\n",
      " [1.         0.75      ]]\n"
     ]
    }
   ],
   "source": [
    "data=np.array([[2,7],[7,9],[4,3]])\n",
    "\n",
    "#applying normalization \n",
    "op=preprocessing.normalize(data,norm='l1')\n",
    "\n",
    "#level2\n",
    "# op=preprocessing.normalize(data,norm='l2')\n",
    "\n",
    "#level3=max\n",
    "# op=preprocessing.normalize(data,norm='max')\n",
    "\n",
    "\n",
    "#printing Output\n",
    "print(op)"
   ]
  },
  {
   "cell_type": "code",
   "execution_count": null,
   "id": "9e932481",
   "metadata": {},
   "outputs": [],
   "source": [
    "#Normalization on csv"
   ]
  },
  {
   "cell_type": "code",
   "execution_count": 18,
   "id": "b052d50b",
   "metadata": {},
   "outputs": [
    {
     "name": "stdout",
     "output_type": "stream",
     "text": [
      "[[0.33980583 0.3592233  0.30097087]\n",
      " [0.29896907 0.32989691 0.37113402]\n",
      " [0.35779817 0.34862385 0.29357798]\n",
      " [0.35483871 0.30107527 0.34408602]\n",
      " [0.3814433  0.26804124 0.35051546]\n",
      " [0.33333333 0.30392157 0.3627451 ]\n",
      " [0.33035714 0.34821429 0.32142857]\n",
      " [0.34234234 0.33333333 0.32432432]\n",
      " [0.36448598 0.3364486  0.29906542]\n",
      " [0.26666667 0.31111111 0.42222222]\n",
      " [0.33663366 0.34653465 0.31683168]\n",
      " [0.1827957  0.43010753 0.38709677]\n",
      " [0.33628319 0.31858407 0.34513274]\n",
      " [0.33035714 0.3125     0.35714286]\n",
      " [0.30769231 0.375      0.31730769]\n",
      " [0.34482759 0.3362069  0.31896552]\n",
      " [0.29292929 0.34343434 0.36363636]\n",
      " [0.32978723 0.37234043 0.29787234]\n",
      " [0.36111111 0.26851852 0.37037037]\n",
      " [0.33636364 0.35454545 0.30909091]\n",
      " [0.34545455 0.32727273 0.32727273]\n",
      " [0.33333333 0.33333333 0.33333333]\n",
      " [0.32432432 0.32432432 0.35135135]\n",
      " [0.33043478 0.33913043 0.33043478]\n",
      " [0.28571429 0.35714286 0.35714286]\n",
      " [0.33035714 0.33035714 0.33928571]\n",
      " [0.33695652 0.31521739 0.34782609]\n",
      " [0.35779817 0.33944954 0.30275229]\n",
      " [0.33009709 0.31067961 0.3592233 ]\n",
      " [0.30357143 0.33928571 0.35714286]\n",
      " [0.31192661 0.35779817 0.33027523]\n",
      " [0.33695652 0.31521739 0.34782609]\n",
      " [0.35779817 0.33944954 0.30275229]\n",
      " [0.33009709 0.31067961 0.3592233 ]]\n"
     ]
    }
   ],
   "source": [
    "df=pd.read_csv(\"student-dataset.csv\")\n",
    "data=df[['english.grade','math.grade','sciences.grade']]\n",
    "#applying normalization \n",
    "op=preprocessing.normalize(data,norm='l1')\n",
    "\n",
    "#printing Output\n",
    "print(op)"
   ]
  },
  {
   "cell_type": "markdown",
   "id": "82833772",
   "metadata": {},
   "source": [
    "# Binarization\n",
    "Converts categorical data ainto numerical form\n",
    "Coverts into either 0 or 1\n",
    "threshold = it is used to put(decide) which data are goes into 1 and which are goes in 0\n",
    "it will converts your data according to your threshold .\n",
    "the value lesser that threshold are converts into 0 and value greter than threshold are converts into 1.\n",
    "You nedd to set threshold according to your data so that output that you retrive is perfect."
   ]
  },
  {
   "cell_type": "code",
   "execution_count": 11,
   "id": "5f176469",
   "metadata": {},
   "outputs": [
    {
     "name": "stdout",
     "output_type": "stream",
     "text": [
      "[[3 5]\n",
      " [7 8]\n",
      " [2 7]]\n",
      "[[0 0]\n",
      " [1 1]\n",
      " [0 1]]\n"
     ]
    }
   ],
   "source": [
    "data=np.array([[3,5],[7,8],[2,7]])\n",
    "\n",
    "#here Threhold is given 5 so value lesser than 5 are converts into 0 and value greater than 5 are converts into 1\n",
    "binarized_data=preprocessing.Binarizer(threshold=5)\n",
    "\n",
    "#performing fit+transform both\n",
    "op=binarized_data.fit_transform(data)\n",
    "print(data)\n",
    "print(op)"
   ]
  },
  {
   "cell_type": "markdown",
   "id": "75a04023",
   "metadata": {},
   "source": [
    "# Label Encoding\n",
    "Converts categorical data ainto numerical form\n",
    "it will Labeled the datawith numbers\n"
   ]
  },
  {
   "cell_type": "code",
   "execution_count": 13,
   "id": "0317ba5a",
   "metadata": {},
   "outputs": [
    {
     "name": "stdout",
     "output_type": "stream",
     "text": [
      "['red', 'black', 'blue', 'yellow', 'orange', 'black', 'blue', 'green']\n",
      "[4 0 1 5 3 0 1 2]\n"
     ]
    }
   ],
   "source": [
    "data=['red','black','blue','yellow','orange','black','blue','green']\n",
    "\n",
    "labeled_data=preprocessing.LabelEncoder()\n",
    "op=labeled_data.fit_transform(data)\n",
    "print(data)\n",
    "print(op)"
   ]
  },
  {
   "cell_type": "code",
   "execution_count": null,
   "id": "7ba1dcb5",
   "metadata": {},
   "outputs": [],
   "source": [
    "#Fit uses only one time\n",
    "#once(First Time) we applys data to the model then it is known as training\n",
    "#Now second time if i will provide data to the model then it is known as testing phase(it is transform)"
   ]
  },
  {
   "cell_type": "code",
   "execution_count": 17,
   "id": "a6bbc6f5",
   "metadata": {},
   "outputs": [
    {
     "name": "stdout",
     "output_type": "stream",
     "text": [
      "['red', 'black', 'blue', 'yellow', 'orange', 'black', 'blue', 'green']\n",
      "[4 0 1 5 3 0 1 2]\n",
      "[0 2]\n",
      "['green' 'black' 'orange']\n"
     ]
    }
   ],
   "source": [
    "#Testing Data\n",
    "\n",
    "data=['red','black','blue','yellow','orange','black','blue','green']\n",
    "\n",
    "labeled_data=preprocessing.LabelEncoder()\n",
    "op=labeled_data.fit_transform(data)\n",
    "print(data)\n",
    "print(op)\n",
    "\n",
    "#testing Model\n",
    "# test_data=['black','pink']\n",
    "# ValueError: y contains previously unseen labels: 'pink'\n",
    "#because we do not have pink in our array list\n",
    "\n",
    "test_data=['black','green']\n",
    "#provide accurate result\n",
    "\n",
    "test_op=labeled_data.transform(test_data)\n",
    "print(test_op)\n",
    "\n",
    "\n",
    "#inverse Testing\n",
    "#inverse_transform() method is used\n",
    "\n",
    "test_data=[2,0,3]\n",
    "test_op=labeled_data.inverse_transform(test_data)\n",
    "print(test_op)"
   ]
  },
  {
   "cell_type": "code",
   "execution_count": null,
   "id": "426a2780",
   "metadata": {},
   "outputs": [],
   "source": [
    "#Label encoding on Csv"
   ]
  },
  {
   "cell_type": "code",
   "execution_count": null,
   "id": "ea45707e",
   "metadata": {},
   "outputs": [],
   "source": [
    "df=pd.read_csv(\"student-dataset.csv\")\n"
   ]
  },
  {
   "cell_type": "markdown",
   "id": "c4174669",
   "metadata": {},
   "source": [
    "# Regression"
   ]
  },
  {
   "cell_type": "code",
   "execution_count": null,
   "id": "5ae8285e",
   "metadata": {},
   "outputs": [],
   "source": [
    "#Regression\n",
    "# Data Loading\n",
    "# Preprocess the data(if required)\n",
    "# split the dataset into x & y\n",
    "# Load the model\n",
    "# Train the model using data(fit)\n",
    "# Test the model"
   ]
  },
  {
   "cell_type": "code",
   "execution_count": 11,
   "id": "7fe54443",
   "metadata": {},
   "outputs": [
    {
     "data": {
      "image/png": "[encoded data removed]",
      "text/plain": [
       "<Figure size 432x288 with 1 Axes>"
      ]
     },
     "metadata": {
      "needs_background": "light"
     },
     "output_type": "display_data"
    }
   ],
   "source": [
    "import pandas as pd\n",
    "import numpy as np\n",
    "from sklearn import linear_model\n",
    "import matplotlib.pyplot as plt\n",
    "\n",
    "#Load the data\n",
    "data=pd.read_csv('Salary.csv')\n",
    "\n",
    "#split the dataset\n",
    "x=np.array(data.YearsExperience).reshape(-1,1)\n",
    "y=np.array(data.Salary).reshape(-1,1)\n",
    "\n",
    "#load the model\n",
    "linear_regression_model=linear_model.LinearRegression()\n",
    "\n",
    "\n",
    "#train the model:fit()\n",
    "linear_regression_model.fit(x,y)\n",
    "\n",
    "#test the model\n",
    "# xtest=np.array([3.0,1.0,5.2,9.0]).reshape(-1,1)\n",
    "xtest=x\n",
    "ytest_result=linear_regression_model.predict(xtest)\n",
    "# print(xtest)\n",
    "# print(ytest_result)\n",
    "\n",
    "\n",
    "#Visualize the actual value vs predict value\n",
    "plt.scatter(x,y,color=\"red\")\n",
    "plt.plot(x,ytest_result,color=\"blue\")\n",
    "plt.xlabel(\"XTEST\")\n",
    "plt.ylabel(\"YTEST\")\n",
    "plt.show()\n",
    "                                             "
   ]
  },
  {
   "cell_type": "code",
   "execution_count": null,
   "id": "f418ee35",
   "metadata": {},
   "outputs": [],
   "source": [
    "# Regression(spliting the dataset on Salary.csv)\n",
    "#model_selection is package of sklearn\n",
    "#method= model_selection.train_test_split()"
   ]
  },
  {
   "cell_type": "code",
   "execution_count": 14,
   "id": "abc664d2",
   "metadata": {},
   "outputs": [
    {
     "name": "stdout",
     "output_type": "stream",
     "text": [
      "[[ 98273.]\n",
      " [116969.]\n",
      " [ 83088.]\n",
      " [ 43525.]\n",
      " [ 54445.]\n",
      " [ 63218.]\n",
      " [ 91738.]\n",
      " [ 56957.]\n",
      " [ 67938.]]\n",
      "[[ 92444.296701  ]\n",
      " [114689.87235293]\n",
      " [ 75760.11496205]\n",
      " [ 45172.44844064]\n",
      " [ 56295.23626661]\n",
      " [ 62783.52916509]\n",
      " [ 89663.59974451]\n",
      " [ 63710.42815059]\n",
      " [ 72052.51902006]]\n"
     ]
    },
    {
     "data": {
      "image/png": "[encoded data removed]",
      "text/plain": [
       "<Figure size 432x288 with 1 Axes>"
      ]
     },
     "metadata": {
      "needs_background": "light"
     },
     "output_type": "display_data"
    }
   ],
   "source": [
    "from sklearn import linear_model,model_selection\n",
    "import pandas as pd\n",
    "import numpy as np\n",
    "\n",
    "#load the dataset\n",
    "data=pd.read_csv('Salary.csv')\n",
    "\n",
    "#identity x and y\n",
    "x=np.array(data.YearsExperience).reshape(-1,1)\n",
    "y=np.array(data.Salary).reshape(-1,1)\n",
    "\n",
    "\n",
    "#split the dataset in training and testing\n",
    "xtrain,xtest,ytrain,ytest=model_selection.train_test_split(x,y,test_size=0.3)\n",
    "\n",
    "#load the model\n",
    "lr=linear_model.LinearRegression()\n",
    "\n",
    "#train the model\n",
    "lr.fit(xtrain,ytrain)\n",
    "\n",
    "#test the model\n",
    "ytest_predicted=lr.predict(xtest)\n",
    "\n",
    "print(ytest)\n",
    "print(ytest_predicted)\n",
    "\n",
    "\n",
    "#Visualize the actual result vs predict result\n",
    "\n",
    "plt.scatter(xtest,ytest,color=\"red\")\n",
    "plt.plot(xtest,ytest_predicted,color=\"blue\")\n",
    "plt.xlabel(\"XLABEL\")\n",
    "plt.ylabel(\"YLABEL\")\n",
    "plt.show()"
   ]
  },
  {
   "cell_type": "code",
   "execution_count": 9,
   "id": "30abc461",
   "metadata": {},
   "outputs": [
    {
     "data": {
      "image/png": "[encoded data removed]",
      "text/plain": [
       "<Figure size 432x288 with 1 Axes>"
      ]
     },
     "metadata": {
      "needs_background": "light"
     },
     "output_type": "display_data"
    }
   ],
   "source": [
    "import pandas as pd\n",
    "from sklearn import linear_model\n",
    "import numpy as np\n",
    "import matplotlib.pyplot as plt\n",
    "\n",
    "#Load the data\n",
    "data=pd.read_csv(\"Data_Advertising.csv\")\n",
    "# print(data)\n",
    "\n",
    "# #split the datset\n",
    "x=np.array(data.TV).reshape(-1,1)\n",
    "y=np.array(data.sales).reshape(-1,1)\n",
    "\n",
    "#load the model\n",
    "linear_regression_model=linear_model.LinearRegression()\n",
    "\n",
    "#train the model:fit()\n",
    "linear_regression_model.fit(x,y)\n",
    "\n",
    "#test the model \n",
    "xtest=x\n",
    "ytest=linear_regression_model.predict(xtest)\n",
    "\n",
    "#Visualize the actual result vs predict result\n",
    "\n",
    "plt.scatter(x,y,color=\"red\")\n",
    "plt.plot(x,ytest,color=\"blue\")\n",
    "plt.xlabel(\"XLABEL\")\n",
    "plt.ylabel(\"YLABEL\")\n",
    "plt.show()"
   ]
  },
  {
   "cell_type": "code",
   "execution_count": 11,
   "id": "49eb039f",
   "metadata": {},
   "outputs": [
    {
     "data": {
      "image/png": "[encoded data removed]",
      "text/plain": [
       "<Figure size 432x288 with 1 Axes>"
      ]
     },
     "metadata": {
      "needs_background": "light"
     },
     "output_type": "display_data"
    }
   ],
   "source": [
    "import pandas as pd\n",
    "from sklearn import linear_model\n",
    "import numpy as np\n",
    "import matplotlib.pyplot as plt\n",
    "\n",
    "#Load the data\n",
    "data=pd.read_csv(\"Data_Advertising.csv\")\n",
    "# print(data)\n",
    "\n",
    "# #split the datset\n",
    "x=np.array(data.radio).reshape(-1,1)\n",
    "y=np.array(data.sales).reshape(-1,1)\n",
    "\n",
    "#load the model\n",
    "linear_regression_model=linear_model.LinearRegression()\n",
    "\n",
    "#train the model:fit()\n",
    "linear_regression_model.fit(x,y)\n",
    "\n",
    "#test the model \n",
    "xtest=x\n",
    "ytest=linear_regression_model.predict(xtest)\n",
    "\n",
    "#Visualize the actual result vs predict result\n",
    "\n",
    "plt.scatter(x,y,color=\"red\")\n",
    "plt.plot(x,ytest,color=\"blue\")\n",
    "plt.xlabel(\"XLABEL\")\n",
    "plt.ylabel(\"YLABEL\")\n",
    "plt.show()"
   ]
  },
  {
   "cell_type": "code",
   "execution_count": 12,
   "id": "d0d7a399",
   "metadata": {},
   "outputs": [
    {
     "data": {
      "image/png": "[encoded data removed]",
      "text/plain": [
       "<Figure size 432x288 with 1 Axes>"
      ]
     },
     "metadata": {
      "needs_background": "light"
     },
     "output_type": "display_data"
    }
   ],
   "source": [
    "import pandas as pd\n",
    "from sklearn import linear_model\n",
    "import numpy as np\n",
    "import matplotlib.pyplot as plt\n",
    "\n",
    "#Load the data\n",
    "data=pd.read_csv(\"Data_Advertising.csv\")\n",
    "# print(data)\n",
    "\n",
    "# #split the datset\n",
    "x=np.array(data.newspaper).reshape(-1,1)\n",
    "y=np.array(data.sales).reshape(-1,1)\n",
    "\n",
    "#load the model\n",
    "linear_regression_model=linear_model.LinearRegression()\n",
    "\n",
    "#train the model:fit()\n",
    "linear_regression_model.fit(x,y)\n",
    "\n",
    "#test the model \n",
    "xtest=x\n",
    "ytest=linear_regression_model.predict(xtest)\n",
    "\n",
    "#Visualize the actual result vs predict result\n",
    "\n",
    "plt.scatter(x,y,color=\"red\")\n",
    "plt.plot(x,ytest,color=\"blue\")\n",
    "plt.xlabel(\"XLABEL\")\n",
    "plt.ylabel(\"YLABEL\")\n",
    "plt.show()"
   ]
  },
  {
   "cell_type": "code",
   "execution_count": 22,
   "id": "b1d67a42",
   "metadata": {},
   "outputs": [
    {
     "name": "stdout",
     "output_type": "stream",
     "text": [
      "      age     sex   bmi  children smoker     region  expenses\n",
      "0      19  female  27.9         0    yes  southwest  16884.92\n",
      "1      18    male  33.8         1     no  southeast   1725.55\n",
      "2      28    male  33.0         3     no  southeast   4449.46\n",
      "3      33    male  22.7         0     no  northwest  21984.47\n",
      "4      32    male  28.9         0     no  northwest   3866.86\n",
      "...   ...     ...   ...       ...    ...        ...       ...\n",
      "1333   50    male  31.0         3     no  northwest  10600.55\n",
      "1334   18  female  31.9         0     no  northeast   2205.98\n",
      "1335   18  female  36.9         0     no  southeast   1629.83\n",
      "1336   21  female  25.8         0     no  southwest   2007.95\n",
      "1337   61  female  29.1         0    yes  northwest  29141.36\n",
      "\n",
      "[1338 rows x 7 columns]\n"
     ]
    },
    {
     "data": {
      "image/png": "[encoded data removed]",
      "text/plain": [
       "<Figure size 432x288 with 1 Axes>"
      ]
     },
     "metadata": {
      "needs_background": "light"
     },
     "output_type": "display_data"
    }
   ],
   "source": [
    "import pandas as pd\n",
    "from sklearn import linear_model\n",
    "import numpy as np\n",
    "import matplotlib.pyplot as plt\n",
    "\n",
    "#Load the data\n",
    "data=pd.read_csv(\"insurance.csv\")\n",
    "print(data)\n",
    "\n",
    "#split the datset\n",
    "x=np.array(data.age).reshape(-1,1)\n",
    "y=np.array(data.expenses).reshape(-1,1)\n",
    "\n",
    "#load the model\n",
    "linear_regression_model=linear_model.LinearRegression()\n",
    "\n",
    "#train the model:fit()\n",
    "linear_regression_model.fit(x,y)\n",
    "\n",
    "#test the model \n",
    "xtest=x\n",
    "ytest=linear_regression_model.predict(xtest)\n",
    "\n",
    "#Visualize the actual result vs predict result\n",
    "\n",
    "plt.scatter(x,y,color=\"red\")\n",
    "plt.plot(x,ytest,color=\"blue\")\n",
    "plt.xlabel(\"XLABEL\")\n",
    "plt.ylabel(\"YLABEL\")\n",
    "plt.show()"
   ]
  },
  {
   "cell_type": "code",
   "execution_count": 20,
   "id": "2f1ece96",
   "metadata": {},
   "outputs": [
    {
     "name": "stdout",
     "output_type": "stream",
     "text": [
      "      age     sex   bmi  children smoker     region  expenses\n",
      "0      19  female  27.9         0    yes  southwest  16884.92\n",
      "1      18    male  33.8         1     no  southeast   1725.55\n",
      "2      28    male  33.0         3     no  southeast   4449.46\n",
      "3      33    male  22.7         0     no  northwest  21984.47\n",
      "4      32    male  28.9         0     no  northwest   3866.86\n",
      "...   ...     ...   ...       ...    ...        ...       ...\n",
      "1333   50    male  31.0         3     no  northwest  10600.55\n",
      "1334   18  female  31.9         0     no  northeast   2205.98\n",
      "1335   18  female  36.9         0     no  southeast   1629.83\n",
      "1336   21  female  25.8         0     no  southwest   2007.95\n",
      "1337   61  female  29.1         0    yes  northwest  29141.36\n",
      "\n",
      "[1338 rows x 7 columns]\n"
     ]
    },
    {
     "data": {
      "image/png": "[encoded data removed]",
      "text/plain": [
       "<Figure size 432x288 with 1 Axes>"
      ]
     },
     "metadata": {
      "needs_background": "light"
     },
     "output_type": "display_data"
    }
   ],
   "source": [
    "import pandas as pd\n",
    "from sklearn import linear_model\n",
    "import numpy as np\n",
    "import matplotlib.pyplot as plt\n",
    "\n",
    "#Load the data\n",
    "data=pd.read_csv(\"insurance.csv\")\n",
    "print(data)\n",
    "\n",
    "#split the datset\n",
    "x=np.array(data.age).reshape(-1,1)\n",
    "y=np.array(data.bmi).reshape(-1,1)\n",
    "\n",
    "#load the model\n",
    "linear_regression_model=linear_model.LinearRegression()\n",
    "\n",
    "#train the model:fit()\n",
    "linear_regression_model.fit(x,y)\n",
    "\n",
    "#test the model \n",
    "xtest=x\n",
    "ytest=linear_regression_model.predict(xtest)\n",
    "\n",
    "#Visualize the actual result vs predict result\n",
    "\n",
    "plt.scatter(x,y,color=\"red\")\n",
    "plt.plot(x,ytest,color=\"blue\")\n",
    "plt.xlabel(\"XLABEL\")\n",
    "plt.ylabel(\"YLABEL\")\n",
    "plt.show()"
   ]
  },
  {
   "cell_type": "code",
   "execution_count": null,
   "id": "689e51a5",
   "metadata": {},
   "outputs": [],
   "source": [
    "#read_data\n",
    "#perfrom preprocessing\n",
    "#plot the data"
   ]
  },
  {
   "cell_type": "code",
   "execution_count": 31,
   "id": "c4ff7289",
   "metadata": {},
   "outputs": [
    {
     "data": {
      "image/png": "[encoded data removed]",
      "text/plain": [
       "<Figure size 432x288 with 1 Axes>"
      ]
     },
     "metadata": {
      "needs_background": "light"
     },
     "output_type": "display_data"
    }
   ],
   "source": [
    "# import pandas as pd\n",
    "from sklearn import preprocessing\n",
    "from sklearn import linear_model\n",
    "import numpy as np\n",
    "import matplotlib.pyplot as plt\n",
    "\n",
    "#Load the dataset\n",
    "data=pd.read_csv(\"insurance.csv\")\n",
    "\n",
    "#preprocessing\n",
    "#label encoding\n",
    "labeled_data=preprocessing.LabelEncoder()\n",
    "x=labeled_data.fit_transform(data.sex)\n",
    "\n",
    "#split the datset\n",
    "x=np.array(x).reshape(-1,1)\n",
    "y=np.array(data.expenses).reshape(-1,1)\n",
    "\n",
    "xtrain,xtest,ytrain,ytest=model_selection.train_test_split(x,y,test_size=0.3)\n",
    "\n",
    "#load the model\n",
    "lr=linear_model.LinearRegression()\n",
    "\n",
    "#train the model:fit()\n",
    "lr.fit(xtrain,ytrain)\n",
    "\n",
    "#test the model \n",
    "ytest_predicted=lr.predict(xtest)\n",
    "\n",
    "\n",
    "# print(ytest)\n",
    "# print(ytest_predicted)\n",
    "\n",
    "#Visualize the actual result vs predict result\n",
    "\n",
    "# plt.scatter(xtest,ytest,color=\"red\")\n",
    "# plt.scatter(xtest,ytest_predicted,color=\"blue\")\n",
    "# plt.xlabel(\"XLABEL\")\n",
    "# plt.ylabel(\"YLABEL\")\n",
    "# plt.show()\n",
    "\n",
    "plt.scatter(xtrain,ytrain,color=\"red\")\n",
    "plt.scatter(xtest,ytest_predicted,color=\"blue\")\n",
    "plt.xlabel(\"XLABEL\")\n",
    "plt.ylabel(\"YLABEL\")\n",
    "plt.show()\n",
    "\n"
   ]
  },
  {
   "cell_type": "markdown",
   "id": "0ff4719d",
   "metadata": {},
   "source": [
    "### Linear regression on weather .csv"
   ]
  },
  {
   "cell_type": "code",
   "execution_count": 7,
   "id": "3b64082f",
   "metadata": {},
   "outputs": [
    {
     "name": "stderr",
     "output_type": "stream",
     "text": [
      "C:\\Users\\MCA2\\AppData\\Roaming\\Python\\Python39\\site-packages\\IPython\\core\\interactiveshell.py:3441: DtypeWarning: Columns (7,8,18,25) have mixed types.Specify dtype option on import or set low_memory=False.\n",
      "  exec(code_obj, self.user_global_ns, self.user_ns)\n",
      "C:\\Users\\MCA2\\AppData\\Roaming\\Python\\Python39\\site-packages\\pandas\\util\\_decorators.py:311: SettingWithCopyWarning: \n",
      "A value is trying to be set on a copy of a slice from a DataFrame\n",
      "\n",
      "See the caveats in the documentation: https://pandas.pydata.org/pandas-docs/stable/user_guide/indexing.html#returning-a-view-versus-a-copy\n",
      "  return func(*args, **kwargs)\n"
     ]
    },
    {
     "name": "stdout",
     "output_type": "stream",
     "text": [
      "MaxTemp     0\n",
      "Snowfall    0\n",
      "dtype: int64\n",
      "MaxTemp     float64\n",
      "Snowfall     object\n",
      "dtype: object\n",
      "[[0.]\n",
      " [0.]\n",
      " [0.]\n",
      " ...\n",
      " [0.]\n",
      " [0.]\n",
      " [0.]]\n",
      "[[0.01658471]\n",
      " [0.833546  ]\n",
      " [0.19164784]\n",
      " ...\n",
      " [0.65848287]\n",
      " [0.42506535]\n",
      " [0.60012849]]\n"
     ]
    },
    {
     "data": {
      "image/png": "[encoded data removed]",
      "text/plain": [
       "<Figure size 432x288 with 1 Axes>"
      ]
     },
     "metadata": {
      "needs_background": "light"
     },
     "output_type": "display_data"
    }
   ],
   "source": [
    "# import pandas as pd\n",
    "from sklearn import preprocessing\n",
    "from sklearn import linear_model,model_selection\n",
    "import numpy as np\n",
    "import matplotlib.pyplot as plt\n",
    "import pandas as pd\n",
    "\n",
    "#Load the dataset\n",
    "data=pd.read_csv(\"Weather.csv\")\n",
    "\n",
    "#inplace=should you want to change original datafrme or not \n",
    "data.replace('#VALUE!', np.nan, inplace=True)\n",
    "\n",
    "data.isnull().sum()\n",
    "ndf=data[['MaxTemp','Snowfall']]\n",
    "ndf.dropna(axis=0,inplace=True)\n",
    "\n",
    "print(ndf.isnull().sum())\n",
    "\n",
    "#split the datset\n",
    "x=np.array(ndf.MaxTemp).reshape(-1,1)\n",
    "y=np.array(pd.to_numeric(ndf.Snowfall)).reshape(-1,1)\n",
    "print(ndf.dtypes)\n",
    "xtrain,xtest,ytrain,ytest=model_selection.train_test_split(x,y,test_size=0.1)\n",
    "\n",
    "#load the model\n",
    "lr=linear_model.LinearRegression()\n",
    "\n",
    "#train the model:fit()\n",
    "lr.fit(xtrain,ytrain)\n",
    "\n",
    "#test the model \n",
    "ytest_predicted=lr.predict(xtest)\n",
    "\n",
    "\n",
    "print(ytest)\n",
    "print(ytest_predicted)\n",
    "\n",
    "# Visualize the actual result vs predict result\n",
    "\n",
    "# plt.scatter(xtest,ytest,color=\"red\")\n",
    "# plt.scatter(xtest,ytest_predicted,color=\"blue\")\n",
    "# plt.xlabel(\"XLABEL\")\n",
    "# plt.ylabel(\"YLABEL\")\n",
    "# plt.show()\n",
    "\n",
    "plt.scatter(xtrain,ytrain,color=\"red\")\n",
    "plt.scatter(xtest,ytest_predicted,color=\"blue\")\n",
    "plt.xlabel(\"XLABEL\")\n",
    "plt.ylabel(\"YLABEL\")\n",
    "plt.show()\n",
    "\n"
   ]
  },
  {
   "cell_type": "markdown",
   "id": "90ffb1e6",
   "metadata": {},
   "source": [
    "# Data with insurance on linear regression with error"
   ]
  },
  {
   "cell_type": "code",
   "execution_count": 1,
   "id": "19107d7d",
   "metadata": {},
   "outputs": [
    {
     "name": "stdout",
     "output_type": "stream",
     "text": [
      "[[0]\n",
      " [1]\n",
      " [1]\n",
      " ...\n",
      " [0]\n",
      " [0]\n",
      " [0]]\n"
     ]
    },
    {
     "data": {
      "image/png": "[encoded data removed]",
      "text/plain": [
       "<Figure size 432x288 with 1 Axes>"
      ]
     },
     "metadata": {
      "needs_background": "light"
     },
     "output_type": "display_data"
    },
    {
     "name": "stdout",
     "output_type": "stream",
     "text": [
      "mean absolute error :  9164.598507774463\n",
      "mean square error :  157938087.6925221\n",
      "mean Absolute percentage error :  1.4674033065389611\n"
     ]
    }
   ],
   "source": [
    "import pandas as pd\n",
    "import numpy as np\n",
    "import matplotlib.pyplot as plt\n",
    "from sklearn import linear_model,model_selection,preprocessing\n",
    "from sklearn.metrics import mean_absolute_error,mean_squared_error,mean_absolute_percentage_error\n",
    "\n",
    "data=pd.read_csv('insurance.csv')\n",
    "# print(data.to_string())\n",
    "\n",
    "# identify x and y\n",
    "x=np.array(data.sex).reshape(-1,1)\n",
    "y=np.array(data.expenses).reshape(-1,1)\n",
    "\n",
    "# Data preprocessing\n",
    "labeled_data=preprocessing.LabelEncoder()\n",
    "op=np.array(labeled_data.fit_transform(data.sex)).reshape(-1,1)\n",
    "# print(data)\n",
    "print(op)\n",
    "\n",
    "# split the dataset in traning and testing\n",
    "xtrain,xtest,ytrain,ytest=model_selection.train_test_split(op,y,test_size=0.3)\n",
    "\n",
    "# load the model\n",
    "lr=linear_model.LinearRegression()\n",
    "\n",
    "# train the model\n",
    "lr.fit(xtrain,ytrain)\n",
    "\n",
    "# test the model\n",
    "ytest_predicted=lr.predict(xtest)\n",
    "# print(ytest)\n",
    "# print(ytest_predicted)\n",
    "\n",
    "# Visualization the model\n",
    "plt.scatter(xtrain,ytrain,color=\"red\")\n",
    "plt.scatter(xtest,ytest_predicted,color=\"blue\")\n",
    "plt.show()\n",
    "print(\"mean absolute error : \",mean_absolute_error(ytest,ytest_predicted))\n",
    "print(\"mean square error : \",mean_squared_error(ytest,ytest_predicted))\n",
    "print(\"mean Absolute percentage error : \",mean_absolute_percentage_error(ytest,ytest_predicted))\n"
   ]
  },
  {
   "cell_type": "markdown",
   "id": "574555b0",
   "metadata": {},
   "source": [
    "# Classification\n",
    "#sklearn.model_selection \n",
    "           |\n",
    "           |\n",
    "    train_test_split()\n",
    "    \n",
    "#from sklearn.native_bayes import GaussianNB\n",
    "            |\n",
    "            |\n",
    "       db.load_iris()\n",
    "       \n",
    "iris=flower name\n",
    "sepal_length,sepal_width,petal_length,petal_width = columns name"
   ]
  },
  {
   "cell_type": "markdown",
   "id": "d5f3e775",
   "metadata": {},
   "source": [
    "# Naive Byes Classifier"
   ]
  },
  {
   "cell_type": "code",
   "execution_count": 5,
   "id": "cd991ddc",
   "metadata": {},
   "outputs": [
    {
     "name": "stdout",
     "output_type": "stream",
     "text": [
      "[[6.4]\n",
      " [4.9]\n",
      " [6.1]\n",
      " [4.6]\n",
      " [6.4]\n",
      " [6.2]\n",
      " [5.6]\n",
      " [5.7]\n",
      " [6.9]\n",
      " [5.5]\n",
      " [6.1]\n",
      " [5. ]\n",
      " [5.7]\n",
      " [6.4]\n",
      " [5.8]\n",
      " [6.6]\n",
      " [6.5]\n",
      " [5.6]\n",
      " [6.2]\n",
      " [4.6]\n",
      " [7.3]\n",
      " [6.4]\n",
      " [5.9]\n",
      " [6.7]\n",
      " [6. ]\n",
      " [5.4]\n",
      " [7.7]\n",
      " [5.4]\n",
      " [6.9]\n",
      " [5.1]\n",
      " [4.8]\n",
      " [4.7]\n",
      " [4.3]\n",
      " [7.7]\n",
      " [4.9]\n",
      " [7.1]\n",
      " [5.1]\n",
      " [4.9]\n",
      " [5.8]\n",
      " [5.7]\n",
      " [5.1]\n",
      " [5.6]\n",
      " [5.5]\n",
      " [5.4]\n",
      " [5. ]] [[1]\n",
      " [0]\n",
      " [2]\n",
      " [0]\n",
      " [2]\n",
      " [1]\n",
      " [1]\n",
      " [1]\n",
      " [2]\n",
      " [0]\n",
      " [2]\n",
      " [1]\n",
      " [0]\n",
      " [2]\n",
      " [2]\n",
      " [1]\n",
      " [2]\n",
      " [1]\n",
      " [2]\n",
      " [0]\n",
      " [2]\n",
      " [2]\n",
      " [1]\n",
      " [2]\n",
      " [1]\n",
      " [0]\n",
      " [2]\n",
      " [0]\n",
      " [2]\n",
      " [0]\n",
      " [0]\n",
      " [0]\n",
      " [0]\n",
      " [2]\n",
      " [1]\n",
      " [2]\n",
      " [0]\n",
      " [0]\n",
      " [1]\n",
      " [1]\n",
      " [0]\n",
      " [1]\n",
      " [1]\n",
      " [1]\n",
      " [0]]\n",
      "[1 0 1 0 1 1 1 1 2 1 1 0 1 1 1 2 2 1 1 0 2 1 1 2 1 0 2 0 2 0 0 0 0 2 0 2 0\n",
      " 0 1 1 0 1 1 0 0]\n"
     ]
    },
    {
     "name": "stderr",
     "output_type": "stream",
     "text": [
      "C:\\Users\\MCA2\\AppData\\Roaming\\Python\\Python39\\site-packages\\sklearn\\utils\\validation.py:63: DataConversionWarning: A column-vector y was passed when a 1d array was expected. Please change the shape of y to (n_samples, ), for example using ravel().\n",
      "  return f(*args, **kwargs)\n"
     ]
    },
    {
     "data": {
      "image/png": "[encoded data removed]",
      "text/plain": [
       "<Figure size 432x288 with 1 Axes>"
      ]
     },
     "metadata": {
      "needs_background": "light"
     },
     "output_type": "display_data"
    }
   ],
   "source": [
    "from sklearn import model_selection\n",
    "import sklearn.datasets as db\n",
    "from sklearn.naive_bayes import GaussianNB\n",
    "import pandas as pd\n",
    "import numpy as np\n",
    "import matplotlib.pyplot as plt\n",
    "\n",
    "#Load the Dataset\n",
    "dataset=db.load_iris()\n",
    "\n",
    "#Identify x:sepal length and Y:class\n",
    "x=np.array(dataset.data[:,0]).reshape(-1,1)\n",
    "y=np.array(dataset.target).reshape(-1,1)\n",
    "\n",
    "#split the dataset into training & testing\n",
    "xtrain,xtest,ytrain,ytest=model_selection.train_test_split(x,y,test_size=0.3)\n",
    "\n",
    "#Load the classifier\n",
    "classifier=GaussianNB()\n",
    "\n",
    "#Train the model\n",
    "classifier.fit(xtrain,ytrain)\n",
    "\n",
    "#test the classifier\n",
    "ytest_predicted=classifier.predict(xtest)\n",
    "\n",
    "print(xtest,ytest)\n",
    "print(ytest_predicted)\n",
    "\n",
    "#Visualize the result\n",
    "plt.scatter(xtest,ytest)\n",
    "plt.scatter(xtest,ytest_predicted)\n",
    "plt.show()"
   ]
  },
  {
   "cell_type": "markdown",
   "id": "2a76d861",
   "metadata": {},
   "source": [
    "# classification on ucimlrepo dataset(heart_disease)"
   ]
  },
  {
   "cell_type": "code",
   "execution_count": 17,
   "id": "2aedba30",
   "metadata": {},
   "outputs": [
    {
     "name": "stdout",
     "output_type": "stream",
     "text": [
      "[[318]\n",
      " [231]\n",
      " [205]\n",
      " [293]\n",
      " [209]\n",
      " [304]\n",
      " [232]\n",
      " [240]\n",
      " [308]\n",
      " [294]\n",
      " [282]\n",
      " [245]\n",
      " [236]\n",
      " [211]\n",
      " [196]\n",
      " [271]\n",
      " [294]\n",
      " [325]\n",
      " [309]\n",
      " [290]\n",
      " [234]\n",
      " [281]\n",
      " [225]\n",
      " [263]\n",
      " [303]\n",
      " [250]\n",
      " [256]\n",
      " [217]\n",
      " [286]\n",
      " [223]\n",
      " [283]\n",
      " [198]\n",
      " [230]\n",
      " [340]\n",
      " [166]\n",
      " [197]\n",
      " [200]\n",
      " [289]\n",
      " [199]\n",
      " [302]\n",
      " [186]\n",
      " [564]\n",
      " [188]\n",
      " [219]\n",
      " [309]\n",
      " [229]\n",
      " [225]\n",
      " [188]\n",
      " [254]\n",
      " [289]\n",
      " [254]\n",
      " [197]\n",
      " [264]\n",
      " [168]\n",
      " [183]\n",
      " [197]\n",
      " [210]\n",
      " [222]\n",
      " [243]\n",
      " [270]\n",
      " [326]\n",
      " [288]\n",
      " [221]\n",
      " [233]\n",
      " [313]\n",
      " [273]\n",
      " [234]\n",
      " [298]\n",
      " [131]\n",
      " [211]\n",
      " [184]\n",
      " [197]\n",
      " [264]\n",
      " [249]\n",
      " [212]\n",
      " [211]\n",
      " [269]\n",
      " [260]\n",
      " [311]\n",
      " [221]\n",
      " [207]\n",
      " [196]\n",
      " [204]\n",
      " [229]\n",
      " [253]\n",
      " [252]\n",
      " [214]\n",
      " [203]\n",
      " [267]\n",
      " [267]\n",
      " [218]] [[4]\n",
      " [0]\n",
      " [3]\n",
      " [2]\n",
      " [0]\n",
      " [4]\n",
      " [0]\n",
      " [0]\n",
      " [0]\n",
      " [0]\n",
      " [3]\n",
      " [0]\n",
      " [0]\n",
      " [0]\n",
      " [0]\n",
      " [0]\n",
      " [2]\n",
      " [0]\n",
      " [0]\n",
      " [2]\n",
      " [2]\n",
      " [3]\n",
      " [4]\n",
      " [2]\n",
      " [0]\n",
      " [0]\n",
      " [3]\n",
      " [3]\n",
      " [3]\n",
      " [1]\n",
      " [0]\n",
      " [0]\n",
      " [4]\n",
      " [0]\n",
      " [4]\n",
      " [0]\n",
      " [3]\n",
      " [4]\n",
      " [0]\n",
      " [0]\n",
      " [0]\n",
      " [0]\n",
      " [3]\n",
      " [3]\n",
      " [3]\n",
      " [1]\n",
      " [2]\n",
      " [2]\n",
      " [2]\n",
      " [4]\n",
      " [2]\n",
      " [1]\n",
      " [1]\n",
      " [0]\n",
      " [0]\n",
      " [1]\n",
      " [0]\n",
      " [0]\n",
      " [0]\n",
      " [3]\n",
      " [2]\n",
      " [3]\n",
      " [0]\n",
      " [0]\n",
      " [0]\n",
      " [0]\n",
      " [0]\n",
      " [3]\n",
      " [3]\n",
      " [0]\n",
      " [1]\n",
      " [0]\n",
      " [0]\n",
      " [1]\n",
      " [4]\n",
      " [0]\n",
      " [0]\n",
      " [2]\n",
      " [2]\n",
      " [0]\n",
      " [1]\n",
      " [0]\n",
      " [1]\n",
      " [1]\n",
      " [0]\n",
      " [0]\n",
      " [0]\n",
      " [1]\n",
      " [0]\n",
      " [1]\n",
      " [2]]\n",
      "[0 0 0 0 0 0 0 0 0 0 0 0 0 0 0 0 0 0 0 0 0 0 0 0 0 0 0 0 0 0 0 0 0 0 0 0 0\n",
      " 0 0 0 0 4 0 0 0 0 0 0 0 0 0 0 0 0 0 0 0 0 0 0 0 0 0 0 0 0 0 0 0 0 0 0 0 0\n",
      " 0 0 0 0 0 0 0 0 0 0 0 0 0 0 0 0 0]\n"
     ]
    },
    {
     "name": "stderr",
     "output_type": "stream",
     "text": [
      "C:\\Users\\MCA2\\AppData\\Roaming\\Python\\Python39\\site-packages\\sklearn\\utils\\validation.py:63: DataConversionWarning: A column-vector y was passed when a 1d array was expected. Please change the shape of y to (n_samples, ), for example using ravel().\n",
      "  return f(*args, **kwargs)\n"
     ]
    },
    {
     "data": {
      "image/png": "[encoded data removed]",
      "text/plain": [
       "<Figure size 432x288 with 1 Axes>"
      ]
     },
     "metadata": {
      "needs_background": "light"
     },
     "output_type": "display_data"
    }
   ],
   "source": [
    "from sklearn import model_selection\n",
    "import sklearn.datasets as db\n",
    "from sklearn.naive_bayes import GaussianNB\n",
    "import pandas as pd\n",
    "import numpy as np\n",
    "import matplotlib.pyplot as plt\n",
    "from ucimlrepo import fetch_ucirepo \n",
    "  \n",
    "# fetch dataset \n",
    "heart_disease = fetch_ucirepo(id=45) \n",
    "#print(heart_disease)\n",
    "    \n",
    "# data (as pandas dataframes) \n",
    "x = np.array(heart_disease.data.features.chol).reshape(-1,1)\n",
    "y = np.array(heart_disease.data.targets).reshape(-1,1)\n",
    "\n",
    "#split the dataset into training & testing\n",
    "xtrain,xtest,ytrain,ytest=model_selection.train_test_split(x,y,test_size=0.3)\n",
    "\n",
    "#Load the classifier\n",
    "classifier=GaussianNB()\n",
    "\n",
    "#Train the model\n",
    "classifier.fit(xtrain,ytrain)\n",
    "\n",
    "#test the classifier\n",
    "ytest_predicted=classifier.predict(xtest)\n",
    "\n",
    "print(xtest,ytest)\n",
    "print(ytest_predicted)\n",
    "\n",
    "#Visualize the result\n",
    "plt.scatter(xtest,ytest)\n",
    "plt.scatter(xtest,ytest_predicted)\n",
    "plt.show()"
   ]
  },
  {
   "cell_type": "markdown",
   "id": "5be708d5",
   "metadata": {},
   "source": [
    "# classification on ucimlrepo dataset(wine dataset)"
   ]
  },
  {
   "cell_type": "code",
   "execution_count": 21,
   "id": "fe0f4076",
   "metadata": {},
   "outputs": [
    {
     "name": "stdout",
     "output_type": "stream",
     "text": [
      "{'uci_id': 109, 'name': 'Wine', 'repository_url': 'https://archive.ics.uci.edu/dataset/109/wine', 'data_url': 'https://archive.ics.uci.edu/static/public/109/data.csv', 'abstract': 'Using chemical analysis to determine the origin of wines', 'area': 'Physics and Chemistry', 'tasks': ['Classification'], 'characteristics': ['Tabular'], 'num_instances': 178, 'num_features': 13, 'feature_types': ['Integer', 'Real'], 'demographics': [], 'target_col': ['class'], 'index_col': None, 'has_missing_values': 'no', 'missing_values_symbol': None, 'year_of_dataset_creation': 1992, 'last_updated': 'Mon Aug 28 2023', 'dataset_doi': '10.24432/C5PC7J', 'creators': ['Stefan Aeberhard', 'M. Forina'], 'intro_paper': {'title': 'Comparative analysis of statistical pattern recognition methods in high dimensional settings', 'authors': 'S. Aeberhard, D. Coomans, O. Vel', 'published_in': 'Pattern Recognition', 'year': 1994, 'url': 'https://www.semanticscholar.org/paper/83dc3e4030d7b9fbdbb4bde03ce12ab70ca10528', 'doi': '10.1016/0031-3203(94)90145-7'}, 'additional_info': {'summary': 'These data are the results of a chemical analysis of wines grown in the same region in Italy but derived from three different cultivars. The analysis determined the quantities of 13 constituents found in each of the three types of wines. \\r\\n\\r\\nI think that the initial data set had around 30 variables, but for some reason I only have the 13 dimensional version. I had a list of what the 30 or so variables were, but a.)  I lost it, and b.), I would not know which 13 variables are included in the set.\\r\\n\\r\\nThe attributes are (dontated by Riccardo Leardi, riclea@anchem.unige.it )\\r\\n1) Alcohol\\r\\n2) Malic acid\\r\\n3) Ash\\r\\n4) Alcalinity of ash  \\r\\n5) Magnesium\\r\\n6) Total phenols\\r\\n7) Flavanoids\\r\\n8) Nonflavanoid phenols\\r\\n9) Proanthocyanins\\r\\n10)Color intensity\\r\\n11)Hue\\r\\n12)OD280/OD315 of diluted wines\\r\\n13)Proline \\r\\n\\r\\nIn a classification context, this is a well posed problem with \"well behaved\" class structures. A good data set for first testing of a new classifier, but not very challenging.           ', 'purpose': 'test', 'funded_by': None, 'instances_represent': None, 'recommended_data_splits': None, 'sensitive_data': None, 'preprocessing_description': None, 'variable_info': 'All attributes are continuous\\r\\n\\t\\r\\nNo statistics available, but suggest to standardise variables for certain uses (e.g. for us with classifiers which are NOT scale invariant)\\r\\n\\r\\nNOTE: 1st attribute is class identifier (1-3)', 'citation': None}}\n",
      "[[12.85]\n",
      " [14.23]\n",
      " [12.64]\n",
      " [13.27]\n",
      " [12.51]\n",
      " [13.34]\n",
      " [11.64]\n",
      " [12.72]\n",
      " [12.7 ]\n",
      " [13.49]\n",
      " [13.32]\n",
      " [12.53]\n",
      " [13.16]\n",
      " [12.47]\n",
      " [12.87]\n",
      " [12.08]\n",
      " [13.64]\n",
      " [13.05]\n",
      " [12.25]\n",
      " [11.46]\n",
      " [13.78]\n",
      " [14.06]\n",
      " [14.3 ]\n",
      " [13.84]\n",
      " [14.22]\n",
      " [13.39]\n",
      " [12.42]\n",
      " [12.81]\n",
      " [12.25]\n",
      " [13.56]\n",
      " [14.22]\n",
      " [12.08]\n",
      " [14.83]\n",
      " [12.  ]\n",
      " [13.3 ]\n",
      " [14.1 ]\n",
      " [12.82]\n",
      " [11.82]\n",
      " [12.37]\n",
      " [13.45]\n",
      " [12.84]\n",
      " [11.81]\n",
      " [12.42]\n",
      " [12.  ]\n",
      " [12.88]\n",
      " [13.58]\n",
      " [13.03]\n",
      " [13.63]\n",
      " [12.  ]\n",
      " [12.07]\n",
      " [12.37]\n",
      " [14.12]\n",
      " [13.69]\n",
      " [12.52]] [[3]\n",
      " [1]\n",
      " [2]\n",
      " [3]\n",
      " [2]\n",
      " [2]\n",
      " [2]\n",
      " [2]\n",
      " [3]\n",
      " [2]\n",
      " [3]\n",
      " [3]\n",
      " [1]\n",
      " [2]\n",
      " [3]\n",
      " [2]\n",
      " [1]\n",
      " [1]\n",
      " [3]\n",
      " [2]\n",
      " [3]\n",
      " [1]\n",
      " [1]\n",
      " [3]\n",
      " [1]\n",
      " [1]\n",
      " [2]\n",
      " [3]\n",
      " [2]\n",
      " [1]\n",
      " [1]\n",
      " [2]\n",
      " [1]\n",
      " [2]\n",
      " [1]\n",
      " [1]\n",
      " [3]\n",
      " [2]\n",
      " [2]\n",
      " [3]\n",
      " [3]\n",
      " [2]\n",
      " [2]\n",
      " [2]\n",
      " [3]\n",
      " [3]\n",
      " [2]\n",
      " [1]\n",
      " [2]\n",
      " [2]\n",
      " [2]\n",
      " [1]\n",
      " [3]\n",
      " [2]]\n",
      "[2 1 2 1 2 1 2 2 2 1 1 2 3 2 3 2 1 3 2 2 1 1 1 1 1 1 2 2 2 1 1 2 1 2 1 1 2\n",
      " 2 2 1 2 2 2 2 3 1 3 1 2 2 2 1 1 2]\n"
     ]
    },
    {
     "name": "stderr",
     "output_type": "stream",
     "text": [
      "C:\\Users\\MCA2\\AppData\\Roaming\\Python\\Python39\\site-packages\\sklearn\\utils\\validation.py:63: DataConversionWarning: A column-vector y was passed when a 1d array was expected. Please change the shape of y to (n_samples, ), for example using ravel().\n",
      "  return f(*args, **kwargs)\n"
     ]
    },
    {
     "data": {
      "image/png": "[encoded data removed]",
      "text/plain": [
       "<Figure size 432x288 with 1 Axes>"
      ]
     },
     "metadata": {
      "needs_background": "light"
     },
     "output_type": "display_data"
    }
   ],
   "source": [
    "from ucimlrepo import fetch_ucirepo \n",
    "  \n",
    "# fetch dataset \n",
    "wine = fetch_ucirepo(id=109) \n",
    "#print(wine)  \n",
    "\n",
    "# data (as pandas dataframes) \n",
    "X = wine.data.features \n",
    "y = wine.data.targets \n",
    "  \n",
    "# metadata \n",
    "print(wine.metadata) \n",
    "\n",
    "x = np.array(wine.data.features.Alcohol).reshape(-1,1)\n",
    "y = np.array(wine.data.targets).reshape(-1,1)\n",
    "\n",
    "#split the dataset into training & testing\n",
    "xtrain,xtest,ytrain,ytest=model_selection.train_test_split(x,y,test_size=0.3)\n",
    "\n",
    "#Load the classifier\n",
    "classifier=GaussianNB()\n",
    "\n",
    "#Train the model\n",
    "classifier.fit(xtrain,ytrain)\n",
    "\n",
    "#test the classifier\n",
    "ytest_predicted=classifier.predict(xtest)\n",
    "\n",
    "print(xtest,ytest)\n",
    "print(ytest_predicted)\n",
    "\n",
    "#Visualize the result\n",
    "plt.scatter(xtest,ytest)\n",
    "plt.scatter(xtest,ytest_predicted)\n",
    "plt.show()"
   ]
  },
  {
   "cell_type": "markdown",
   "id": "1434ef42",
   "metadata": {},
   "source": [
    "# Evaluation Matrics"
   ]
  },
  {
   "cell_type": "code",
   "execution_count": 5,
   "id": "36a3fee9",
   "metadata": {},
   "outputs": [
    {
     "name": "stderr",
     "output_type": "stream",
     "text": [
      "C:\\Users\\MCA2\\AppData\\Roaming\\Python\\Python39\\site-packages\\sklearn\\utils\\validation.py:63: DataConversionWarning: A column-vector y was passed when a 1d array was expected. Please change the shape of y to (n_samples, ), for example using ravel().\n",
      "  return f(*args, **kwargs)\n"
     ]
    },
    {
     "data": {
      "image/png": "[encoded data removed]",
      "text/plain": [
       "<Figure size 432x288 with 1 Axes>"
      ]
     },
     "metadata": {
      "needs_background": "light"
     },
     "output_type": "display_data"
    },
    {
     "name": "stdout",
     "output_type": "stream",
     "text": [
      "Accuracy Score 0.6\n",
      "              precision    recall  f1-score   support\n",
      "\n",
      "           0       0.85      0.85      0.85        13\n",
      "           1       0.42      0.53      0.47        15\n",
      "           2       0.62      0.47      0.53        17\n",
      "\n",
      "    accuracy                           0.60        45\n",
      "   macro avg       0.63      0.62      0.62        45\n",
      "weighted avg       0.62      0.60      0.60        45\n",
      "\n",
      "[[11  2  0]\n",
      " [ 2  8  5]\n",
      " [ 0  9  8]]\n"
     ]
    }
   ],
   "source": [
    "from sklearn import model_selection\n",
    "import sklearn.datasets as db\n",
    "from sklearn.naive_bayes import GaussianNB\n",
    "import pandas as pd\n",
    "import numpy as np\n",
    "import matplotlib.pyplot as plt\n",
    "from sklearn.metrics import accuracy_score,classification_report,confusion_matrix\n",
    "\n",
    "#Load the Dataset\n",
    "dataset=db.load_iris()\n",
    "\n",
    "#Identify x:sepal length and Y:class\n",
    "x=np.array(dataset.data[:,0]).reshape(-1,1)\n",
    "y=np.array(dataset.target).reshape(-1,1)\n",
    "\n",
    "#split the dataset into training & testing\n",
    "xtrain,xtest,ytrain,ytest=model_selection.train_test_split(x,y,test_size=0.3)\n",
    "\n",
    "#Load the classifier\n",
    "classifier=GaussianNB()\n",
    "\n",
    "#Train the model\n",
    "classifier.fit(xtrain,ytrain)\n",
    "\n",
    "#test the classifier\n",
    "ytest_predicted=classifier.predict(xtest)\n",
    "\n",
    "# print(xtest,ytest)\n",
    "# print(ytest_predicted)\n",
    "      \n",
    "#Visualize the result\n",
    "plt.scatter(xtest,ytest)\n",
    "plt.scatter(xtest,ytest_predicted)\n",
    "plt.show()\n",
    "\n",
    "\n",
    "#evaluation matrix\n",
    "\n",
    "print(\"Accuracy Score\",accuracy_score(ytest,ytest_predicted))\n",
    "print(classification_report(ytest,ytest_predicted))\n",
    "print(confusion_matrix(ytest,ytest_predicted))"
   ]
  },
  {
   "cell_type": "markdown",
   "id": "9855501c",
   "metadata": {},
   "source": [
    "# Evaluation Matrics on heart_disease dataset"
   ]
  },
  {
   "cell_type": "code",
   "execution_count": 9,
   "id": "5678b3d3",
   "metadata": {},
   "outputs": [
    {
     "name": "stderr",
     "output_type": "stream",
     "text": [
      "C:\\Users\\MCA2\\AppData\\Roaming\\Python\\Python39\\site-packages\\sklearn\\utils\\validation.py:63: DataConversionWarning: A column-vector y was passed when a 1d array was expected. Please change the shape of y to (n_samples, ), for example using ravel().\n",
      "  return f(*args, **kwargs)\n"
     ]
    },
    {
     "data": {
      "image/png": "[encoded data removed]",
      "text/plain": [
       "<Figure size 432x288 with 1 Axes>"
      ]
     },
     "metadata": {
      "needs_background": "light"
     },
     "output_type": "display_data"
    },
    {
     "name": "stdout",
     "output_type": "stream",
     "text": [
      "Accuracy Score 0.5164835164835165\n",
      "              precision    recall  f1-score   support\n",
      "\n",
      "           0       0.53      0.96      0.68        49\n",
      "           1       0.00      0.00      0.00        13\n",
      "           2       0.00      0.00      0.00        13\n",
      "           3       0.00      0.00      0.00        10\n",
      "           4       0.00      0.00      0.00         6\n",
      "\n",
      "    accuracy                           0.52        91\n",
      "   macro avg       0.11      0.19      0.14        91\n",
      "weighted avg       0.28      0.52      0.37        91\n",
      "\n",
      "[[47  0  1  0  1]\n",
      " [13  0  0  0  0]\n",
      " [13  0  0  0  0]\n",
      " [10  0  0  0  0]\n",
      " [ 6  0  0  0  0]]\n"
     ]
    },
    {
     "name": "stderr",
     "output_type": "stream",
     "text": [
      "C:\\Users\\MCA2\\AppData\\Roaming\\Python\\Python39\\site-packages\\sklearn\\metrics\\_classification.py:1248: UndefinedMetricWarning: Precision and F-score are ill-defined and being set to 0.0 in labels with no predicted samples. Use `zero_division` parameter to control this behavior.\n",
      "  _warn_prf(average, modifier, msg_start, len(result))\n",
      "C:\\Users\\MCA2\\AppData\\Roaming\\Python\\Python39\\site-packages\\sklearn\\metrics\\_classification.py:1248: UndefinedMetricWarning: Precision and F-score are ill-defined and being set to 0.0 in labels with no predicted samples. Use `zero_division` parameter to control this behavior.\n",
      "  _warn_prf(average, modifier, msg_start, len(result))\n",
      "C:\\Users\\MCA2\\AppData\\Roaming\\Python\\Python39\\site-packages\\sklearn\\metrics\\_classification.py:1248: UndefinedMetricWarning: Precision and F-score are ill-defined and being set to 0.0 in labels with no predicted samples. Use `zero_division` parameter to control this behavior.\n",
      "  _warn_prf(average, modifier, msg_start, len(result))\n"
     ]
    }
   ],
   "source": [
    "from sklearn import model_selection\n",
    "import sklearn.datasets as db\n",
    "from sklearn.naive_bayes import GaussianNB\n",
    "import pandas as pd\n",
    "import numpy as np\n",
    "import matplotlib.pyplot as plt\n",
    "from ucimlrepo import fetch_ucirepo \n",
    "from sklearn.metrics import accuracy_score,classification_report,confusion_matrix\n",
    "  \n",
    "# fetch dataset \n",
    "heart_disease = fetch_ucirepo(id=45) \n",
    "#print(heart_disease)\n",
    "    \n",
    "# data (as pandas dataframes) \n",
    "x = np.array(heart_disease.data.features.chol).reshape(-1,1)\n",
    "y = np.array(heart_disease.data.targets).reshape(-1,1)\n",
    "\n",
    "#split the dataset into training & testing\n",
    "xtrain,xtest,ytrain,ytest=model_selection.train_test_split(x,y,test_size=0.3)\n",
    "\n",
    "#Load the classifier\n",
    "classifier=GaussianNB()\n",
    "\n",
    "#Train the model\n",
    "classifier.fit(xtrain,ytrain)\n",
    "\n",
    "#test the classifier\n",
    "ytest_predicted=classifier.predict(xtest)\n",
    "\n",
    "# print(xtest,ytest)\n",
    "# print(ytest_predicted)\n",
    "\n",
    "#Visualize the result\n",
    "plt.scatter(xtest,ytest)\n",
    "plt.scatter(xtest,ytest_predicted)\n",
    "plt.show()\n",
    "\n",
    "\n",
    "#evaluation matrix\n",
    "\n",
    "print(\"Accuracy Score\",accuracy_score(ytest,ytest_predicted))\n",
    "print(classification_report(ytest,ytest_predicted))\n",
    "print(confusion_matrix(ytest,ytest_predicted))"
   ]
  },
  {
   "cell_type": "code",
   "execution_count": 2,
   "id": "9bc03f84",
   "metadata": {},
   "outputs": [
    {
     "name": "stderr",
     "output_type": "stream",
     "text": [
      "C:\\Users\\MCA2\\AppData\\Roaming\\Python\\Python39\\site-packages\\sklearn\\utils\\validation.py:63: DataConversionWarning: A column-vector y was passed when a 1d array was expected. Please change the shape of y to (n_samples, ), for example using ravel().\n",
      "  return f(*args, **kwargs)\n"
     ]
    },
    {
     "data": {
      "image/png": "[encoded data removed]",
      "text/plain": [
       "<Figure size 432x288 with 1 Axes>"
      ]
     },
     "metadata": {
      "needs_background": "light"
     },
     "output_type": "display_data"
    },
    {
     "name": "stdout",
     "output_type": "stream",
     "text": [
      "\n",
      " Confusion Matrix\n",
      "[[ 44  20]\n",
      " [  6 101]]\n"
     ]
    }
   ],
   "source": [
    "from sklearn import model_selection\n",
    "from sklearn.datasets import load_breast_cancer\n",
    "from sklearn.linear_model import LogisticRegression\n",
    "import pandas as pd\n",
    "import numpy as np\n",
    "import matplotlib.pyplot as plt\n",
    "from sklearn.metrics import confusion_matrix\n",
    "\n",
    "#model Evaluation\n",
    "#load the Dataset:cancer\n",
    "dataset=load_breast_cancer()\n",
    "\n",
    "#identify x and y\n",
    "x=np.array(dataset.data[:,0]).reshape(-1,1)\n",
    "y=np.array(dataset.target).reshape(-1,1)\n",
    "\n",
    "#split the dataset into training and testing\n",
    "xtrain,xtest,ytrain,ytest=model_selection.train_test_split(x,y,test_size=0.3)\n",
    "\n",
    "#Load the Classifier\n",
    "classifier=LogisticRegression()\n",
    "\n",
    "#Train the model\n",
    "classifier.fit(xtrain,ytrain)\n",
    "\n",
    "#test the classifier\n",
    "ytest_predicted=classifier.predict(xtest)\n",
    "\n",
    "# print(xtest,ytest)\n",
    "# print(ytest_predicted)\n",
    "\n",
    "#Visualize the result\n",
    "plt.scatter(xtest,ytest)\n",
    "plt.scatter(xtest,ytest_predicted)\n",
    "plt.show()\n",
    "\n",
    "from sklearn.metrics import confusion_matrix\n",
    "\n",
    "print(\"\\n Confusion Matrix\")\n",
    "print(confusion_matrix(ytest,ytest_predicted))"
   ]
  },
  {
   "cell_type": "markdown",
   "id": "df104a73",
   "metadata": {},
   "source": [
    "# SVM - Support vector Machine"
   ]
  },
  {
   "cell_type": "code",
   "execution_count": 2,
   "id": "79d2c0c2",
   "metadata": {},
   "outputs": [
    {
     "name": "stdout",
     "output_type": "stream",
     "text": [
      "[[5.9]\n",
      " [5.1]\n",
      " [6.4]\n",
      " [6.5]\n",
      " [7.6]\n",
      " [5.7]\n",
      " [4.8]\n",
      " [5.7]\n",
      " [4.7]\n",
      " [5.4]\n",
      " [5.7]\n",
      " [6.6]\n",
      " [5.6]\n",
      " [7.2]\n",
      " [6.5]\n",
      " [5.5]\n",
      " [6.3]\n",
      " [6.3]\n",
      " [6.8]\n",
      " [7. ]\n",
      " [4.9]\n",
      " [5.5]\n",
      " [5. ]\n",
      " [5. ]\n",
      " [6.9]\n",
      " [6.4]\n",
      " [6.9]\n",
      " [5.5]\n",
      " [7.7]\n",
      " [5.7]\n",
      " [6.4]\n",
      " [5.8]\n",
      " [6.7]\n",
      " [7.9]\n",
      " [5.1]\n",
      " [4.4]\n",
      " [5. ]\n",
      " [5.6]\n",
      " [5. ]\n",
      " [6.7]\n",
      " [5.7]\n",
      " [5.1]\n",
      " [4.3]\n",
      " [5. ]\n",
      " [6.9]] [[1]\n",
      " [0]\n",
      " [2]\n",
      " [2]\n",
      " [2]\n",
      " [2]\n",
      " [0]\n",
      " [1]\n",
      " [0]\n",
      " [0]\n",
      " [1]\n",
      " [1]\n",
      " [1]\n",
      " [2]\n",
      " [2]\n",
      " [1]\n",
      " [1]\n",
      " [2]\n",
      " [2]\n",
      " [1]\n",
      " [1]\n",
      " [1]\n",
      " [0]\n",
      " [0]\n",
      " [2]\n",
      " [2]\n",
      " [2]\n",
      " [0]\n",
      " [2]\n",
      " [0]\n",
      " [1]\n",
      " [1]\n",
      " [2]\n",
      " [2]\n",
      " [0]\n",
      " [0]\n",
      " [0]\n",
      " [1]\n",
      " [0]\n",
      " [1]\n",
      " [1]\n",
      " [0]\n",
      " [0]\n",
      " [1]\n",
      " [1]]\n",
      "[1 0 2 2 2 1 0 1 0 0 1 2 1 2 2 1 2 2 2 2 0 1 0 0 2 2 2 1 2 1 2 1 2 2 0 0 0\n",
      " 1 0 2 1 0 0 0 2]\n"
     ]
    },
    {
     "name": "stderr",
     "output_type": "stream",
     "text": [
      "C:\\Users\\MCA2\\AppData\\Roaming\\Python\\Python39\\site-packages\\sklearn\\utils\\validation.py:63: DataConversionWarning: A column-vector y was passed when a 1d array was expected. Please change the shape of y to (n_samples, ), for example using ravel().\n",
      "  return f(*args, **kwargs)\n"
     ]
    },
    {
     "data": {
      "image/png": "[encoded data removed]",
      "text/plain": [
       "<Figure size 432x288 with 1 Axes>"
      ]
     },
     "metadata": {
      "needs_background": "light"
     },
     "output_type": "display_data"
    }
   ],
   "source": [
    "from sklearn import model_selection\n",
    "import sklearn.datasets as db\n",
    "from sklearn.svm import SVC\n",
    "import pandas as pd\n",
    "import numpy as np\n",
    "import matplotlib.pyplot as plt\n",
    "\n",
    "#Load the Dataset\n",
    "dataset=db.load_iris()\n",
    "\n",
    "#Identify x:sepal length and Y:class\n",
    "x=np.array(dataset.data[:,0]).reshape(-1,1)\n",
    "y=np.array(dataset.target).reshape(-1,1)\n",
    "\n",
    "#split the dataset into training & testing\n",
    "xtrain,xtest,ytrain,ytest=model_selection.train_test_split(x,y,test_size=0.3)\n",
    "\n",
    "#Load the classifier\n",
    "classifier = SVC(kernel='linear')\n",
    "\n",
    "#Train the model\n",
    "classifier.fit(xtrain,ytrain)\n",
    "\n",
    "#test the classifier\n",
    "ytest_predicted=classifier.predict(xtest)\n",
    "\n",
    "print(xtest,ytest)\n",
    "print(ytest_predicted)\n",
    "\n",
    "#Visualize the result\n",
    "plt.scatter(xtest,ytest)\n",
    "plt.scatter(xtest,ytest_predicted)\n",
    "plt.show()"
   ]
  },
  {
   "cell_type": "code",
   "execution_count": 1,
   "id": "915aed76",
   "metadata": {},
   "outputs": [
    {
     "name": "stdout",
     "output_type": "stream",
     "text": [
      "[[277]\n",
      " [212]\n",
      " [234]\n",
      " [234]\n",
      " [197]\n",
      " [235]\n",
      " [290]\n",
      " [206]\n",
      " [213]\n",
      " [226]\n",
      " [313]\n",
      " [283]\n",
      " [180]\n",
      " [282]\n",
      " [321]\n",
      " [243]\n",
      " [229]\n",
      " [226]\n",
      " [254]\n",
      " [219]\n",
      " [308]\n",
      " [261]\n",
      " [226]\n",
      " [354]\n",
      " [325]\n",
      " [218]\n",
      " [282]\n",
      " [289]\n",
      " [215]\n",
      " [288]\n",
      " [270]\n",
      " [256]\n",
      " [304]\n",
      " [198]\n",
      " [274]\n",
      " [246]\n",
      " [227]\n",
      " [188]\n",
      " [309]\n",
      " [256]\n",
      " [184]\n",
      " [270]\n",
      " [263]\n",
      " [253]\n",
      " [244]\n",
      " [253]\n",
      " [234]\n",
      " [219]\n",
      " [216]\n",
      " [236]\n",
      " [257]\n",
      " [160]\n",
      " [275]\n",
      " [288]\n",
      " [289]\n",
      " [274]\n",
      " [196]\n",
      " [233]\n",
      " [244]\n",
      " [232]\n",
      " [212]\n",
      " [174]\n",
      " [266]\n",
      " [240]\n",
      " [221]\n",
      " [222]\n",
      " [241]\n",
      " [407]\n",
      " [211]\n",
      " [304]\n",
      " [200]\n",
      " [212]\n",
      " [249]\n",
      " [265]\n",
      " [322]\n",
      " [240]\n",
      " [243]\n",
      " [211]\n",
      " [224]\n",
      " [193]\n",
      " [167]\n",
      " [235]\n",
      " [197]\n",
      " [243]\n",
      " [208]\n",
      " [327]\n",
      " [223]\n",
      " [360]\n",
      " [216]\n",
      " [265]\n",
      " [254]] [[0]\n",
      " [4]\n",
      " [0]\n",
      " [0]\n",
      " [0]\n",
      " [0]\n",
      " [2]\n",
      " [3]\n",
      " [0]\n",
      " [0]\n",
      " [0]\n",
      " [1]\n",
      " [0]\n",
      " [1]\n",
      " [0]\n",
      " [0]\n",
      " [1]\n",
      " [0]\n",
      " [2]\n",
      " [0]\n",
      " [0]\n",
      " [1]\n",
      " [0]\n",
      " [0]\n",
      " [0]\n",
      " [2]\n",
      " [1]\n",
      " [4]\n",
      " [0]\n",
      " [1]\n",
      " [0]\n",
      " [3]\n",
      " [0]\n",
      " [0]\n",
      " [1]\n",
      " [2]\n",
      " [0]\n",
      " [3]\n",
      " [1]\n",
      " [2]\n",
      " [1]\n",
      " [3]\n",
      " [0]\n",
      " [0]\n",
      " [0]\n",
      " [1]\n",
      " [0]\n",
      " [0]\n",
      " [1]\n",
      " [1]\n",
      " [0]\n",
      " [0]\n",
      " [0]\n",
      " [3]\n",
      " [4]\n",
      " [3]\n",
      " [0]\n",
      " [1]\n",
      " [1]\n",
      " [1]\n",
      " [2]\n",
      " [4]\n",
      " [1]\n",
      " [0]\n",
      " [0]\n",
      " [0]\n",
      " [1]\n",
      " [4]\n",
      " [0]\n",
      " [4]\n",
      " [3]\n",
      " [1]\n",
      " [1]\n",
      " [0]\n",
      " [1]\n",
      " [0]\n",
      " [0]\n",
      " [0]\n",
      " [3]\n",
      " [2]\n",
      " [3]\n",
      " [0]\n",
      " [1]\n",
      " [1]\n",
      " [0]\n",
      " [2]\n",
      " [1]\n",
      " [0]\n",
      " [0]\n",
      " [0]\n",
      " [3]]\n",
      "[0 0 0 0 0 0 0 0 0 0 0 0 0 0 0 0 0 0 0 0 0 0 0 0 0 0 0 0 0 0 0 0 0 0 0 0 0\n",
      " 0 0 0 0 0 0 0 0 0 0 0 0 0 0 0 0 0 0 0 0 0 0 0 0 0 0 0 0 0 0 0 0 0 0 0 0 0\n",
      " 0 0 0 0 0 0 0 0 0 0 0 0 0 0 0 0 0]\n"
     ]
    },
    {
     "name": "stderr",
     "output_type": "stream",
     "text": [
      "C:\\Users\\MCA2\\AppData\\Roaming\\Python\\Python39\\site-packages\\sklearn\\utils\\validation.py:63: DataConversionWarning: A column-vector y was passed when a 1d array was expected. Please change the shape of y to (n_samples, ), for example using ravel().\n",
      "  return f(*args, **kwargs)\n"
     ]
    },
    {
     "data": {
      "image/png": "[encoded data removed]",
      "text/plain": [
       "<Figure size 432x288 with 1 Axes>"
      ]
     },
     "metadata": {
      "needs_background": "light"
     },
     "output_type": "display_data"
    }
   ],
   "source": [
    "from sklearn import model_selection\n",
    "import sklearn.datasets as db\n",
    "from sklearn.svm import SVC\n",
    "import pandas as pd\n",
    "import numpy as np\n",
    "import matplotlib.pyplot as plt\n",
    "from ucimlrepo import fetch_ucirepo \n",
    "  \n",
    "# fetch dataset \n",
    "heart_disease = fetch_ucirepo(id=45) \n",
    "#print(heart_disease)\n",
    "    \n",
    "# data (as pandas dataframes) \n",
    "x = np.array(heart_disease.data.features.chol).reshape(-1,1)\n",
    "y = np.array(heart_disease.data.targets).reshape(-1,1)\n",
    "\n",
    "#split the dataset into training & testing\n",
    "xtrain,xtest,ytrain,ytest=model_selection.train_test_split(x,y,test_size=0.3)\n",
    "\n",
    "#Load the classifier\n",
    "classifier =SVC(kernel='linear')\n",
    "\n",
    "#Train the model\n",
    "classifier.fit(xtrain,ytrain)\n",
    "\n",
    "#test the classifier\n",
    "ytest_predicted=classifier.predict(xtest)\n",
    "\n",
    "print(xtest,ytest)\n",
    "print(ytest_predicted)\n",
    "\n",
    "#Visualize the result\n",
    "plt.scatter(xtest,ytest)\n",
    "plt.scatter(xtest,ytest_predicted)\n",
    "plt.show()"
   ]
  },
  {
   "cell_type": "code",
   "execution_count": 3,
   "id": "e07bdd4b",
   "metadata": {},
   "outputs": [
    {
     "name": "stdout",
     "output_type": "stream",
     "text": [
      "[[ 60150.]\n",
      " [ 54445.]\n",
      " [ 39891.]\n",
      " [ 64445.]\n",
      " [101302.]\n",
      " [ 61111.]\n",
      " [ 66029.]\n",
      " [116969.]\n",
      " [113812.]]\n",
      "[ 56642.  56642.  43525.  56642.  98273.  57081.  83088. 112635. 109431.]\n"
     ]
    },
    {
     "name": "stderr",
     "output_type": "stream",
     "text": [
      "C:\\Users\\MCA2\\AppData\\Roaming\\Python\\Python39\\site-packages\\sklearn\\utils\\validation.py:63: DataConversionWarning: A column-vector y was passed when a 1d array was expected. Please change the shape of y to (n_samples, ), for example using ravel().\n",
      "  return f(*args, **kwargs)\n"
     ]
    },
    {
     "data": {
      "image/png": "[encoded data removed]",
      "text/plain": [
       "<Figure size 432x288 with 1 Axes>"
      ]
     },
     "metadata": {
      "needs_background": "light"
     },
     "output_type": "display_data"
    }
   ],
   "source": [
    "from sklearn import linear_model,model_selection\n",
    "import pandas as pd\n",
    "import numpy as np\n",
    "from sklearn.svm import SVC\n",
    "\n",
    "#load the dataset\n",
    "data=pd.read_csv('Salary.csv')\n",
    "\n",
    "#identity x and y\n",
    "x=np.array(data.YearsExperience).reshape(-1,1)\n",
    "y=np.array(data.Salary).reshape(-1,1)\n",
    "\n",
    "\n",
    "#split the dataset in training and testing\n",
    "xtrain,xtest,ytrain,ytest=model_selection.train_test_split(x,y,test_size=0.3)\n",
    "\n",
    "#load the model\n",
    "lr=SVC(kernel='linear')\n",
    "\n",
    "#train the model\n",
    "lr.fit(xtrain,ytrain)\n",
    "\n",
    "#test the model\n",
    "ytest_predicted=lr.predict(xtest)\n",
    "\n",
    "print(ytest)\n",
    "print(ytest_predicted)\n",
    "\n",
    "\n",
    "#Visualize the actual result vs predict result\n",
    "\n",
    "plt.scatter(xtest,ytest,color=\"red\")\n",
    "plt.scatter(xtest,ytest_predicted,color=\"blue\")\n",
    "plt.xlabel(\"XLABEL\")\n",
    "plt.ylabel(\"YLABEL\")\n",
    "plt.show()"
   ]
  },
  {
   "cell_type": "code",
   "execution_count": 4,
   "id": "b3990e90",
   "metadata": {},
   "outputs": [
    {
     "name": "stdout",
     "output_type": "stream",
     "text": [
      "[[ 4.9]\n",
      " [ 8.7]\n",
      " [ 1.1]\n",
      " [ 3.2]\n",
      " [10.5]\n",
      " [ 2.9]\n",
      " [ 5.1]\n",
      " [ 7.9]\n",
      " [ 9.5]] [[ 67938.]\n",
      " [109431.]\n",
      " [ 39343.]\n",
      " [ 54445.]\n",
      " [121872.]\n",
      " [ 56642.]\n",
      " [ 66029.]\n",
      " [101302.]\n",
      " [116969.]]\n",
      "[ 61111. 105582.  46205.  64445. 122391.  60150.  83088. 113812. 112635.]\n"
     ]
    },
    {
     "name": "stderr",
     "output_type": "stream",
     "text": [
      "C:\\Users\\MCA2\\AppData\\Roaming\\Python\\Python39\\site-packages\\sklearn\\utils\\validation.py:63: DataConversionWarning: A column-vector y was passed when a 1d array was expected. Please change the shape of y to (n_samples, ), for example using ravel().\n",
      "  return f(*args, **kwargs)\n"
     ]
    },
    {
     "data": {
      "image/png": "[encoded data removed]",
      "text/plain": [
       "<Figure size 432x288 with 1 Axes>"
      ]
     },
     "metadata": {
      "needs_background": "light"
     },
     "output_type": "display_data"
    }
   ],
   "source": [
    "from sklearn import model_selection\n",
    "import sklearn.datasets as db\n",
    "from sklearn.svm import SVC\n",
    "import pandas as pd\n",
    "import numpy as np\n",
    "import matplotlib.pyplot as plt\n",
    "from ucimlrepo import fetch_ucirepo \n",
    "  \n",
    "# fetch dataset \n",
    "#load the dataset\n",
    "data=pd.read_csv('Salary.csv')\n",
    "\n",
    "#identity x and y\n",
    "x=np.array(data.YearsExperience).reshape(-1,1)\n",
    "y=np.array(data.Salary).reshape(-1,1)\n",
    "\n",
    "#split the dataset into training & testing\n",
    "xtrain,xtest,ytrain,ytest=model_selection.train_test_split(x,y,test_size=0.3)\n",
    "\n",
    "#Load the classifier\n",
    "classifier =SVC(kernel='linear')\n",
    "\n",
    "#Train the model\n",
    "classifier.fit(xtrain,ytrain)\n",
    "\n",
    "#test the classifier\n",
    "ytest_predicted=classifier.predict(xtest)\n",
    "\n",
    "print(xtest,ytest)\n",
    "print(ytest_predicted)\n",
    "\n",
    "#Visualize the result\n",
    "plt.scatter(xtest,ytest)\n",
    "plt.scatter(xtest,ytest_predicted)\n",
    "plt.show()"
   ]
  },
  {
   "cell_type": "code",
   "execution_count": null,
   "id": "ffa60ab3",
   "metadata": {},
   "outputs": [],
   "source": []
  }
 ],
 "metadata": {
  "kernelspec": {
   "display_name": "Python 3 (ipykernel)",
   "language": "python",
   "name": "python3"
  },
  "language_info": {
   "codemirror_mode": {
    "name": "ipython",
    "version": 3
   },
   "file_extension": ".py",
   "mimetype": "text/x-python",
   "name": "python",
   "nbconvert_exporter": "python",
   "pygments_lexer": "ipython3",
   "version": "3.9.6"
  }
 },
 "nbformat": 4,
 "nbformat_minor": 5
}
