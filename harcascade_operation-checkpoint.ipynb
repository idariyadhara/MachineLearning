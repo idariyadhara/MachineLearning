{
 "cells": [
  {
   "cell_type": "code",
   "execution_count": null,
   "id": "01c68794-d22a-42ca-9e14-fc54c14bde49",
   "metadata": {},
   "outputs": [],
   "source": [
    "#Face Detection"
   ]
  },
  {
   "cell_type": "code",
   "execution_count": 3,
   "id": "aea41d28-3e17-40b4-b6f7-3192728f093e",
   "metadata": {},
   "outputs": [
    {
     "name": "stdout",
     "output_type": "stream",
     "text": [
      "[[163  37  70  70]]\n"
     ]
    }
   ],
   "source": [
    "import cv2\n",
    "img = cv2.imread(\"person1.jpg\",cv2.IMREAD_COLOR)\n",
    "face_cascade=cv2.CascadeClassifier(\"haarcascade_frontalface_default.xml\")\n",
    "grey_img=cv2.cvtColor(img,cv2.COLOR_BGR2GRAY)\n",
    "faces=face_cascade.detectMultiScale(grey_img,1.1,4)\n",
    "print(faces)\n",
    "for (x,y,w,h) in faces:\n",
    "\tcv2.rectangle(img,(x,y),(x+w,y+h),(0,255,0),3)\n",
    "cv2.imshow(\"Face Detector\",img)\n",
    "cv2.waitKey(5000)\n",
    "cv2.destroyAllWindows()"
   ]
  },
  {
   "cell_type": "code",
   "execution_count": null,
   "id": "e5ca7371-3c31-4453-8c9c-0fc42821ad50",
   "metadata": {},
   "outputs": [],
   "source": [
    "#Nose Detection"
   ]
  },
  {
   "cell_type": "code",
   "execution_count": null,
   "id": "484f46f4-9d4f-46cc-b2e2-b13532ed0354",
   "metadata": {},
   "outputs": [],
   "source": [
    "import cv2\n",
    "img = cv2.imread(\"person1.jpg\",cv2.IMREAD_COLOR)\n",
    "face_cascade=cv2.CascadeClassifier(\"haarcascade_mcs_nose.xml\")\n",
    "grey_img=cv2.cvtColor(img,cv2.COLOR_BGR2GRAY)\n",
    "faces=face_cascade.detectMultiScale(grey_img,1.1,5)\n",
    "print(faces)\n",
    "for (x,y,w,h) in faces:\n",
    "\tcv2.rectangle(img,(x,y),(x+w,y+h),(0,255,0),3)\n",
    "cv2.imshow(\"Face Detector\",img)\n",
    "cv2.waitKey(5000)\n",
    "cv2.destroyAllWindows()"
   ]
  },
  {
   "cell_type": "code",
   "execution_count": null,
   "id": "b0b43dcf-c422-49bd-a5d4-fefa9ecab52a",
   "metadata": {},
   "outputs": [],
   "source": [
    "#Smile Detection"
   ]
  },
  {
   "cell_type": "code",
   "execution_count": null,
   "id": "28253db5-3e76-419c-ba6c-74d3252edcb5",
   "metadata": {},
   "outputs": [],
   "source": [
    "import cv2\n",
    "img = cv2.imread(\"person1.jpg\",cv2.IMREAD_COLOR)\n",
    "face_cascade=cv2.CascadeClassifier(\"haarcascade_smile.xml\")\n",
    "grey_img=cv2.cvtColor(img,cv2.COLOR_BGR2GRAY)\n",
    "faces=face_cascade.detectMultiScale(grey_img,1.1,10 )\n",
    "print(faces)\n",
    "for (x,y,w,h) in faces:\n",
    "\tcv2.rectangle(img,(x,y),(x+w,y+h),(0,255,0),3)\n",
    "cv2.imshow(\"Face Detector\",img)\n",
    "cv2.waitKey(5000)\n",
    "cv2.destroyAllWindows()"
   ]
  },
  {
   "cell_type": "code",
   "execution_count": null,
   "id": "401ce5f9-3740-42e4-83eb-b0ec5e29dc2a",
   "metadata": {},
   "outputs": [],
   "source": [
    "#Eye detection"
   ]
  },
  {
   "cell_type": "code",
   "execution_count": null,
   "id": "59cec643-08c7-4671-9a2c-fa711af56301",
   "metadata": {},
   "outputs": [],
   "source": [
    "import cv2\n",
    "img = cv2.imread(\"person1.jpg\",cv2.IMREAD_COLOR)\n",
    "face_cascade=cv2.CascadeClassifier(\"haarcascade_eye.xml\")\n",
    "grey_img=cv2.cvtColor(img,cv2.COLOR_BGR2GRAY)\n",
    "faces=face_cascade.detectMultiScale(grey_img,1.1,4)\n",
    "print(faces)\n",
    "for (x,y,w,h) in faces:\n",
    "\tcv2.rectangle(img,(x,y),(x+w,y+h),(0,255,0),3)\n",
    "cv2.imshow(\"Face Detector\",img)\n",
    "cv2.waitKey(5000)\n",
    "cv2.destroyAllWindows()"
   ]
  },
  {
   "cell_type": "code",
   "execution_count": null,
   "id": "67fa5231-95a3-47df-9d4a-b4ebfef934a7",
   "metadata": {},
   "outputs": [],
   "source": [
    "#Ear Detection"
   ]
  },
  {
   "cell_type": "code",
   "execution_count": null,
   "id": "28617589-8263-4154-8118-8d5ce102463c",
   "metadata": {},
   "outputs": [],
   "source": [
    "import cv2\n",
    "# img = cv2.imread(\"leftear.jpg\",cv2.IMREAD_COLOR)\n",
    "# face_cascade=cv2.CascadeClassifier(\"haarcascade_mcs_leftear.xml\")\n",
    "\n",
    "img = cv2.imread(\"rightear.jpg\",cv2.IMREAD_COLOR)\n",
    "face_cascade=cv2.CascadeClassifier(\"haarcascade_mcs_rightear.xml\")\n",
    "grey_img=cv2.cvtColor(img,cv2.COLOR_BGR2GRAY)\n",
    "faces=face_cascade.detectMultiScale(grey_img,1.1,5)\n",
    "print(faces)\n",
    "for (x,y,w,h) in faces:\n",
    "\tcv2.rectangle(img,(x,y),(x+w,y+h),(0,255,0),3)\n",
    "cv2.imshow(\"Face Detector\",img)\n",
    "cv2.waitKey(5000)\n",
    "cv2.destroyAllWindows()"
   ]
  }
 ],
 "metadata": {
  "kernelspec": {
   "display_name": "Python 3 (ipykernel)",
   "language": "python",
   "name": "python3"
  },
  "language_info": {
   "codemirror_mode": {
    "name": "ipython",
    "version": 3
   },
   "file_extension": ".py",
   "mimetype": "text/x-python",
   "name": "python",
   "nbconvert_exporter": "python",
   "pygments_lexer": "ipython3",
   "version": "3.12.2"
  }
 },
 "nbformat": 4,
 "nbformat_minor": 5
}
